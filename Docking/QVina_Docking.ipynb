{
 "cells": [
  {
   "cell_type": "code",
   "execution_count": null,
   "id": "02592ad3",
   "metadata": {},
   "outputs": [],
   "source": [
    "which qvina-w"
   ]
  },
  {
   "cell_type": "markdown",
   "id": "c8cacbae",
   "metadata": {},
   "source": [
    "### Setup"
   ]
  },
  {
   "cell_type": "code",
   "execution_count": null,
   "id": "3156fd1f",
   "metadata": {},
   "outputs": [],
   "source": [
    "exhaustiveness=400\n",
    "cpus=6\n",
    "ligand_name=\"AcetylCoA\"\n",
    "pdbs_list=\"pdbs.list\""
   ]
  },
  {
   "cell_type": "markdown",
   "id": "0e2037d4",
   "metadata": {},
   "source": [
    "### Generate configs"
   ]
  },
  {
   "cell_type": "code",
   "execution_count": null,
   "id": "292bce77",
   "metadata": {},
   "outputs": [],
   "source": [
    "ligand=$(dir -1 ligands | grep \"$ligand_name.pdbqt\")"
   ]
  },
  {
   "cell_type": "code",
   "execution_count": null,
   "id": "59ff1776",
   "metadata": {},
   "outputs": [],
   "source": [
    "mkdir -p configs\n",
    "while read pdb_filename\n",
    "do\n",
    "pdb=$(basename -s .pdbqt $pdb_filename)\n",
    "rm -f ./configs/$pdb.conf\n",
    "\n",
    "# Read grid\n",
    "center=$(cat ./grids/grid_$pdb.txt | grep center | tr -s ' ' '\\t')\n",
    "center_x=$(cut -f 2 <<< \"$center\")\n",
    "center_y=$(cut -f 3 <<< \"$center\")\n",
    "center_z=$(cut -f 4 <<< \"$center\")\n",
    "size=$(cat ./grids/grid_$pdb.txt | grep npts | tr -s ' ' '\\t')\n",
    "size_x=$(cut -f 2 <<< \"$size\")\n",
    "size_y=$(cut -f 3 <<< \"$size\")\n",
    "size_z=$(cut -f 4 <<< \"$size\")\n",
    "\n",
    "# Generate config file\n",
    "cat > ./configs/$pdb.conf << EOL\n",
    "receptor = ./pdbs/$pdb.pdbqt\n",
    "ligand = ./ligands/$ligand\n",
    "\n",
    "center_x = $center_x\n",
    "center_y = $center_y\n",
    "center_z = $center_z\n",
    "\n",
    "size_x = $size_x\n",
    "size_y = $size_y\n",
    "size_z = $size_z\n",
    "\n",
    "exhaustiveness = $exhaustiveness\n",
    "cpu = $cpus\n",
    "EOL\n",
    "\n",
    "done < $pdbs_list"
   ]
  },
  {
   "cell_type": "markdown",
   "id": "ce98084d",
   "metadata": {},
   "source": [
    "### Accelerated run using QuickVina-W"
   ]
  },
  {
   "cell_type": "markdown",
   "id": "1b0c66c4",
   "metadata": {},
   "source": [
    "AcetylCoA ligand is the one from 7dqg"
   ]
  },
  {
   "cell_type": "code",
   "execution_count": null,
   "id": "8c6bfabd",
   "metadata": {
    "scrolled": true
   },
   "outputs": [],
   "source": [
    "mkdir -p logs\n",
    "while read pdb_filename\n",
    "do\n",
    "pdb=$(basename -s .pdbqt $pdb_filename)\n",
    "rm -rf ./runs/$pdb\n",
    "mkdir -p ./runs/$pdb\n",
    "echo \"Docking $(basename -s .pdbqt $ligand_name) in $(basename -s .pdbqt $pdb)\"\n",
    "qvina-w --config ./configs/$pdb.conf \\\n",
    "        --out ./runs/$pdb/$pdb.docked.pdbqt \\\n",
    "        | tee ./logs/$pdb.log\n",
    "done < $pdbs_list\n",
    "echo \"DONE\""
   ]
  },
  {
   "cell_type": "code",
   "execution_count": null,
   "id": "e6a63aa5",
   "metadata": {},
   "outputs": [],
   "source": []
  }
 ],
 "metadata": {
  "kernelspec": {
   "display_name": "Bash",
   "language": "bash",
   "name": "bash"
  },
  "language_info": {
   "codemirror_mode": "shell",
   "file_extension": ".sh",
   "mimetype": "text/x-sh",
   "name": "bash"
  }
 },
 "nbformat": 4,
 "nbformat_minor": 5
}
