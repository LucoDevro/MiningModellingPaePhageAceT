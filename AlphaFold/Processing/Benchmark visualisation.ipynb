{
 "cells": [
  {
   "cell_type": "code",
   "execution_count": null,
   "id": "aa2efa10",
   "metadata": {},
   "outputs": [],
   "source": [
    "import matplotlib.pyplot as plt\n",
    "import seaborn as sns\n",
    "import os\n",
    "import pandas as pd"
   ]
  },
  {
   "cell_type": "markdown",
   "id": "ca4317cc",
   "metadata": {},
   "source": [
    "### RMSD predicted-experimental"
   ]
  },
  {
   "cell_type": "code",
   "execution_count": null,
   "id": "a194a1cd",
   "metadata": {},
   "outputs": [],
   "source": [
    "pdb_af = pd.read_csv(\"PDB.exp-pred.alphafold.benchmark\", sep=\"\\t\")\n",
    "pdb_cf = pd.read_csv(\"PDB.exp-pred.colabfold.benchmark\", sep=\"\\t\")\n",
    "pdb = pd.concat([pdb_af.assign(algorithm=\"AlphaFold\"), pdb_cf.assign(algorithm=\"ColabFold\")])\n",
    "pdb[\"Non-pruned\"]=pdb[\"Pruned number of atom pairs\"]/pdb[\"Total number of atom pairs\"]*100\n",
    "pdb"
   ]
  },
  {
   "cell_type": "code",
   "execution_count": null,
   "id": "c2cafdb0",
   "metadata": {},
   "outputs": [],
   "source": [
    "os.chdir('runs')"
   ]
  },
  {
   "cell_type": "code",
   "execution_count": null,
   "id": "9a03e117",
   "metadata": {},
   "outputs": [],
   "source": [
    "sns.set(style='whitegrid', rc={\"xtick.bottom\" : True, \"ytick.left\" : False})\n",
    "\n",
    "f = sns.PairGrid(pdb.sort_values(\"PDB name\", ascending=True),\n",
    "                 x_vars=['RMSD (pruned)', 'RMSD (all)','Non-pruned'], y_vars=[\"PDB name\"],\n",
    "                 height=2.5, aspect=1.25, hue='algorithm')\n",
    "f.map(sns.stripplot, size=10, orient=\"h\" , jitter=False)\n",
    "\n",
    "labels=['RMSD (pruned) [$\\AA$]', 'RMSD (all) [$\\AA$]', 'Post-pruning fraction [%]']\n",
    "index=0\n",
    "for ax, label in zip(f.axes.flat, labels):\n",
    "    if index != 2:\n",
    "        ax.axvline(2, ls=\"--\", color=\"red\")\n",
    "    ax.xaxis.grid(True)\n",
    "    ax.yaxis.grid(True)\n",
    "    ax.set_xlabel(label)\n",
    "    ax.xaxis.label.set_size(16)\n",
    "    ax.yaxis.label.set_size(16)\n",
    "    ax.minorticks_on()\n",
    "    index+=1\n",
    "plt.legend(loc='lower center', bbox_to_anchor=(-0.65, -0.9), fontsize=16)\n",
    "sns.despine(left=True, bottom=True)\n",
    "f.savefig(\"RMSD_exp-pred.svg\")"
   ]
  },
  {
   "cell_type": "markdown",
   "id": "b65b22b7",
   "metadata": {},
   "source": [
    "### Dotplot AlphaFold vs. ColabFold"
   ]
  },
  {
   "cell_type": "code",
   "execution_count": null,
   "id": "34d38fe1",
   "metadata": {},
   "outputs": [],
   "source": [
    "data_0 = pd.read_csv(\"benchmark.comparison\", sep=\"\\t\")\n",
    "names = data_0[\"Protein\"].tolist()\n",
    "for i in range(len(names)):\n",
    "    if len(names[i])==6:\n",
    "        names[i]=names[i][:4]\n",
    "    elif len(names[i])==4:\n",
    "        continue\n",
    "    else:\n",
    "        split = names[i].split(\"_\")\n",
    "        species = '_'.join(split[:-1])\n",
    "        loc = split[-1]\n",
    "        loc = loc[:int(len(loc)/2)] + '-' + loc[int(len(loc)/2):]\n",
    "        names[i] = species + ' [' + loc + ']'\n",
    "data_0[\"Protein\"]=names"
   ]
  },
  {
   "cell_type": "code",
   "execution_count": null,
   "id": "0ca049c3",
   "metadata": {},
   "outputs": [],
   "source": [
    "data_af = data_0[['Protein','pLDDT_AF','pTM_AF','Runtime_AF']]\n",
    "data_af.columns = ['Protein', 'pLDDT', 'pTM', 'Runtime']\n",
    "data_cf = data_0[['Protein','pLDDT_CF','pTM_CF','Runtime_CF']]\n",
    "data_cf.columns = ['Protein', 'pLDDT', 'pTM', 'Runtime']\n",
    "data = pd.concat([data_af.assign(algorithm='AlphaFold'), data_cf.assign(algorithm='ColabFold')])\n",
    "data"
   ]
  },
  {
   "cell_type": "code",
   "execution_count": null,
   "id": "332500a7",
   "metadata": {},
   "outputs": [],
   "source": [
    "sns.set(style='whitegrid', rc={\"xtick.bottom\" : True, \"ytick.left\" : False})\n",
    "\n",
    "g = sns.PairGrid(data.sort_values(\"Protein\", ascending=True),\n",
    "                 x_vars=data.columns[1:-1], y_vars=[\"Protein\"],\n",
    "                 height=7, aspect=.35, hue='algorithm')\n",
    "g.map(sns.stripplot, size=10, orient=\"h\" , jitter=False)\n",
    "\n",
    "labels=['pLDDT [%]', 'pTM [-]', 'Runtime [s]']\n",
    "axes_limits=[[60,101], [0.3,1.01], [0,22000]]\n",
    "index=0\n",
    "for ax, label in zip(g.axes.flat, labels):\n",
    "    if index==0:\n",
    "        ax.axvline(70, ls=\"--\", color=\"red\")\n",
    "    elif index==1:\n",
    "        ax.axvline(0.7, ls=\"--\", color=\"red\")\n",
    "    ax.xaxis.grid(True)\n",
    "    ax.yaxis.grid(True)\n",
    "    ax.set_xlim(axes_limits[index][0], axes_limits[index][1])\n",
    "    ax.set_xlabel(label)\n",
    "    ax.xaxis.label.set_size(16)\n",
    "    ax.yaxis.label.set_size(16)\n",
    "    index+=1\n",
    "plt.legend(loc='lower center', bbox_to_anchor=(-0.65, -0.25), fontsize=16)\n",
    "sns.despine(left=True, bottom=True)\n",
    "g.savefig(\"Dotplot-preds.svg\")"
   ]
  },
  {
   "cell_type": "markdown",
   "id": "ccbef572",
   "metadata": {},
   "source": [
    "### Pair-wise AlphaFold-ColabFold RMSD"
   ]
  },
  {
   "cell_type": "code",
   "execution_count": null,
   "id": "8752a1bf",
   "metadata": {},
   "outputs": [],
   "source": [
    "data_0['Non-pruned'] = data_0['Pruned number of atom pairs']/data_0['Total number of atom pairs']*100\n",
    "data_0"
   ]
  },
  {
   "cell_type": "code",
   "execution_count": null,
   "id": "b29de653",
   "metadata": {},
   "outputs": [],
   "source": [
    "sns.set(style='whitegrid', rc={\"xtick.bottom\" : True, \"ytick.left\" : False})\n",
    "\n",
    "h = sns.PairGrid(data_0.sort_values(\"Protein\", ascending=True),\n",
    "                 x_vars=['RMSD (pruned)', 'RMSD (all)', 'Non-pruned'], y_vars=[\"Protein\"],\n",
    "                 height=7, aspect=0.75)\n",
    "h.map(sns.stripplot, size=10, orient=\"h\" , jitter=False, color='blue')\n",
    "\n",
    "labels = ['RMSD (pruned) [$\\AA$]', 'RMSD (all) [$\\AA$]', 'Post-pruning fraction [%]']\n",
    "index=0\n",
    "for ax, label in zip(h.axes.flat, labels):\n",
    "    if index != 2:\n",
    "        ax.axvline(2, ls=\"--\", color=\"red\")\n",
    "    ax.xaxis.grid(True)\n",
    "    ax.yaxis.grid(True)\n",
    "    ax.set_xlabel(label)\n",
    "    ax.xaxis.label.set_size(16)\n",
    "    ax.yaxis.label.set_size(16)\n",
    "    ax.minorticks_on()\n",
    "    index+=1\n",
    "sns.despine(left=True, bottom=True)\n",
    "h.savefig(\"RMSD-preds.svg\")"
   ]
  },
  {
   "cell_type": "code",
   "execution_count": null,
   "id": "582f8a76",
   "metadata": {},
   "outputs": [],
   "source": []
  }
 ],
 "metadata": {
  "kernelspec": {
   "display_name": "Python 3",
   "language": "python",
   "name": "python3"
  },
  "language_info": {
   "codemirror_mode": {
    "name": "ipython",
    "version": 3
   },
   "file_extension": ".py",
   "mimetype": "text/x-python",
   "name": "python",
   "nbconvert_exporter": "python",
   "pygments_lexer": "ipython3",
   "version": "3.8.10"
  }
 },
 "nbformat": 4,
 "nbformat_minor": 5
}
