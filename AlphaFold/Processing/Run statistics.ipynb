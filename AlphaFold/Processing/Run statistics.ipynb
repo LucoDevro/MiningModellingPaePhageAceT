{
 "cells": [
  {
   "cell_type": "markdown",
   "id": "dda80341",
   "metadata": {},
   "source": [
    "## Scraping log files for run score metrics"
   ]
  },
  {
   "cell_type": "code",
   "execution_count": null,
   "id": "f184369c",
   "metadata": {},
   "outputs": [],
   "source": [
    "cd ./runs/prod"
   ]
  },
  {
   "cell_type": "code",
   "execution_count": null,
   "id": "28859afc",
   "metadata": {
    "scrolled": true
   },
   "outputs": [],
   "source": [
    "prods=$(dir -1)\n",
    "echo -e \"PDB name\\tpLDDT\\tpTM\" > run.scores.log\n",
    "for run in $prods\n",
    "do\n",
    "run_prot=$(echo $run | cut -d '_' -f 2-)\n",
    "plddt=$(cat ./$run/info.log | \\\n",
    "        grep model_1 | grep -Eo \"plddt=[0-9]{1,3}\\.[0-9]{3}\" | \\\n",
    "        cut -c 7-)\n",
    "ptm=$(cat ./$run/info.log | \\\n",
    "    grep model_1 | grep -Eo \"ptm=[0-1]\\.[0-9]{3}\" | \\\n",
    "    cut -c 5-)\n",
    "echo -e \"$run_prot\\t$plddt\\t$ptm\" >> run.scores.log\n",
    "done\n",
    "cat run.scores.log"
   ]
  },
  {
   "cell_type": "code",
   "execution_count": null,
   "id": "364b3d89",
   "metadata": {},
   "outputs": [],
   "source": []
  }
 ],
 "metadata": {
  "kernelspec": {
   "display_name": "Bash",
   "language": "bash",
   "name": "bash"
  },
  "language_info": {
   "codemirror_mode": "shell",
   "file_extension": ".sh",
   "mimetype": "text/x-sh",
   "name": "bash"
  }
 },
 "nbformat": 4,
 "nbformat_minor": 5
}
