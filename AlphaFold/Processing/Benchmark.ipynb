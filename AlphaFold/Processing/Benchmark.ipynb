{
 "cells": [
  {
   "cell_type": "markdown",
   "id": "dda80341",
   "metadata": {},
   "source": [
    "## Scraping log files and calculating RMSDs for quantitative benchmark"
   ]
  },
  {
   "cell_type": "markdown",
   "id": "7a71bd01",
   "metadata": {},
   "source": [
    "### Alphafold PDBs"
   ]
  },
  {
   "cell_type": "code",
   "execution_count": null,
   "id": "3e15d155",
   "metadata": {},
   "outputs": [],
   "source": [
    "# Generating Chimera command scripts\n",
    "cmd=\"mmaker #1 #0\\nsave alignment_PDB_exp-pred.py\"\n",
    "echo -e $cmd > align_PDB_exp-pred.cmd\n",
    "cmd=\"mmaker #1 #0\\nsave alignment_preds.py\"\n",
    "echo -e $cmd > align_pred.cmd"
   ]
  },
  {
   "cell_type": "code",
   "execution_count": null,
   "id": "28859afc",
   "metadata": {
    "scrolled": true
   },
   "outputs": [],
   "source": [
    "PDBfiles=$(dir -1 pdbs)\n",
    "echo -e \"PDB name\\tpLDDT\\tpTM\\tRMSD (pruned)\\tRMSD (all)\\tPruned number of atom pairs\\tTotal number of atom pairs\\tRuntime\" > PDB.exp-pred.alphafold.benchmark\n",
    "for file in $PDBfiles\n",
    "do\n",
    "name=$(basename $file .pdb | cut -c -4 | tr '[:lower:]' '[:upper:]')\n",
    "run=$(dir -1 runs/alphafold_benchmark | grep $name)\n",
    "plddt=$(cat runs/alphafold_benchmark/$run/info.log | \\\n",
    "        grep model_1 | grep -Eo \"plddt=[0-9]{1,3}\\.[0-9]{3}\" | \\\n",
    "        cut -c 7-)\n",
    "ptm=$(cat runs/alphafold_benchmark/$run/info.log | \\\n",
    "    grep model_1 | grep -Eo \"ptm=[0-1]\\.[0-9]{3}\" | \\\n",
    "    cut -c 5-)\n",
    "time1=$(cat runs/alphafold_benchmark/$run/info.log | \\\n",
    "        head -1 | cut -d '-' -f -3 | xargs -i date -d {} +%s)\n",
    "time2=$(cat runs/alphafold_benchmark/$run/info.log | \\\n",
    "        tail -1 | cut -d '-' -f -3 | xargs -i date -d {} +%s)\n",
    "runtime=$(($time2-$time1))\n",
    "chim_out=$(chimera --nogui \\\n",
    "    runs/alphafold_benchmark/$run/\"$run\"_relaxed_model_1.pdb \\\n",
    "    pdbs/$file align_PDB_exp-pred.cmd | grep RMSD)\n",
    "rmsd=$(echo $chim_out | grep -Eo \"[0-9]+\\.[0-9]{3}\" | \\\n",
    "        tr \"\\n\" \"\\t\" | sed 's/\\t$//')\n",
    "pruned=$(echo $chim_out | grep -Eo \" [0-9]+ \" | \\\n",
    "        tr \"\\n\" \"\\t\" | sed 's/\\t$//')\n",
    "mv alignment_PDB_exp-pred.py ./runs/alphafold_benchmark/$run/alignment_PDB_exp-pred.py\n",
    "echo -e \"$name\\t$plddt\\t$ptm\\t$rmsd\\t$pruned\\t$runtime\" >> PDB.exp-pred.alphafold.benchmark\n",
    "done\n",
    "cat PDB.exp-pred.alphafold.benchmark"
   ]
  },
  {
   "cell_type": "markdown",
   "id": "2fb8e7d4",
   "metadata": {},
   "source": [
    "### ColabFold PDBs"
   ]
  },
  {
   "cell_type": "code",
   "execution_count": null,
   "id": "d492623f",
   "metadata": {},
   "outputs": [],
   "source": [
    "PDBfiles=$(dir -1 pdbs)\n",
    "echo -e \"PDB name\\tpLDDT\\tpTM\\tRMSD (pruned)\\tRMSD (all)\\tPruned number of atom pairs\\tTotal number of atom pairs\\tRuntime\" > PDB.exp-pred.colabfold.benchmark\n",
    "for file in $PDBfiles\n",
    "do\n",
    "name=$(basename $file .pdb | cut -c -4 | tr '[:lower:]' '[:upper:]')\n",
    "run=$(dir -1 runs/colabfold_benchmark | grep $name)\n",
    "plddt=$(cat runs/colabfold_benchmark/$run/info.log | \\\n",
    "        grep model_1 | grep -Eo \"plddt=[0-9]{1,3}\\.[0-9]{3}\" | \\\n",
    "        cut -c 7-)\n",
    "ptm=$(cat runs/colabfold_benchmark/$run/info.log | \\\n",
    "    grep model_1 | grep -Eo \"ptm=[0-1]\\.[0-9]{3}\" | \\\n",
    "    cut -c 5-)\n",
    "time1=$(cat runs/colabfold_benchmark/$run/info.log | \\\n",
    "        head -1 | cut -d '-' -f -3 | xargs -i date -d {} +%s)\n",
    "time2=$(cat runs/colabfold_benchmark/$run/info.log | \\\n",
    "        tail -1 | cut -d '-' -f -3 | xargs -i date -d {} +%s)\n",
    "runtime=$(($time2-$time1))\n",
    "chim_out=$(chimera --nogui \\\n",
    "    runs/colabfold_benchmark/$run/\"$run\"_relaxed_model_1.pdb \\\n",
    "    pdbs/$file align_PDB_exp-pred.cmd | grep RMSD)\n",
    "rmsd=$(echo $chim_out | grep -Eo \"[0-9]+\\.[0-9]{3}\" | \\\n",
    "        tr \"\\n\" \"\\t\" | sed 's/\\t$//')\n",
    "pruned=$(echo $chim_out | grep -Eo \" [0-9]+ \" | \\\n",
    "        tr \"\\n\" \"\\t\" | sed 's/\\t$//')\n",
    "mv alignment_PDB_exp-pred.py ./runs/colabfold_benchmark/$run/alignment_PDB_exp-pred.py\n",
    "echo -e \"$name\\t$plddt\\t$ptm\\t$rmsd\\t$pruned\\t$runtime\" >> PDB.exp-pred.colabfold.benchmark\n",
    "done\n",
    "cat PDB.exp-pred.colabfold.benchmark"
   ]
  },
  {
   "cell_type": "markdown",
   "id": "e424af1f",
   "metadata": {},
   "source": [
    "### AlphaFold & ColabFold comparison"
   ]
  },
  {
   "cell_type": "code",
   "execution_count": null,
   "id": "98b4cded",
   "metadata": {},
   "outputs": [],
   "source": [
    "cd runs"
   ]
  },
  {
   "cell_type": "code",
   "execution_count": null,
   "id": "1e65d613",
   "metadata": {},
   "outputs": [],
   "source": [
    "runs=$(dir -1 alphafold_benchmark)\n",
    "echo -e \"Protein\\tpLDDT_AF\\tpLDDT_CF\\tpTM_AF\\tpTM_CF\\tRMSD (pruned)\\tRMSD (all)\\tPruned number of atom pairs\\tTotal number of atom pairs\\tRuntime_AF\\tRuntime_CF\" > benchmark.comparison\n",
    "for run in $runs\n",
    "do\n",
    "name=$(echo \"$run\"| cut -d '_' -f 2-)\n",
    "\n",
    "# alphafold\n",
    "plddt_a=$(cat alphafold_benchmark/$run/info.log | \\\n",
    "        grep model_1 | grep -Eo \"plddt=[0-9]{1,3}\\.[0-9]{3}\" | \\\n",
    "        cut -c 7-)\n",
    "ptm_a=$(cat alphafold_benchmark/$run/info.log | \\\n",
    "    grep model_1 | grep -Eo \"ptm=[0-1]\\.[0-9]{3}\" | \\\n",
    "    cut -c 5-)\n",
    "time1=$(cat alphafold_benchmark/$run/info.log | \\\n",
    "        head -1 | cut -d '-' -f -3 | xargs -i date -d {} +%s)\n",
    "time2=$(cat alphafold_benchmark/$run/info.log | \\\n",
    "        tail -1 | cut -d '-' -f -3 | xargs -i date -d {} +%s)\n",
    "runtime_a=$(($time2-$time1))\n",
    "    \n",
    "# colabfold\n",
    "run_c=$(dir -1 colabfold_benchmark | grep $name)\n",
    "plddt_c=$(cat colabfold_benchmark/$run_c/info.log | \\\n",
    "        grep model_1 | grep -Eo \"plddt=[0-9]{1,3}\\.[0-9]{3}\" | \\\n",
    "        cut -c 7-)\n",
    "ptm_c=$(cat colabfold_benchmark/$run_c/info.log | \\\n",
    "    grep model_1 | grep -Eo \"ptm=[0-1]\\.[0-9]{3}\" | \\\n",
    "    cut -c 5-)\n",
    "time1=$(cat colabfold_benchmark/$run_c/info.log | \\\n",
    "        head -1 | cut -d '-' -f -3 | xargs -i date -d {} +%s)\n",
    "time2=$(cat colabfold_benchmark/$run_c/info.log | \\\n",
    "        tail -1 | cut -d '-' -f -3 | xargs -i date -d {} +%s)\n",
    "runtime_c=$(($time2-$time1))\n",
    "\n",
    "# comparative RMSD\n",
    "chim_out=$(chimera --nogui \\\n",
    "    colabfold_benchmark/$run_c/\"$run_c\"_relaxed_model_1.pdb \\\n",
    "    alphafold_benchmark/$run/\"$run\"_relaxed_model_1.pdb \\\n",
    "    ../align_pred.cmd | grep RMSD)\n",
    "rmsd=$(echo $chim_out | grep -Eo \"[0-9]+\\.[0-9]{3}\" | \\\n",
    "        tr \"\\n\" \"\\t\" | sed 's/\\t$//')\n",
    "pruned=$(echo $chim_out | grep -Eo \" [0-9]+ \" | \\\n",
    "        tr \"\\n\" \"\\t\" | sed 's/\\t$//')\n",
    "mv ../alignment_preds.py ./colabfold_benchmark/$run_c/alignment_preds.py\n",
    "echo -e \"$name\\t$plddt_a\\t$plddt_c\\t$ptm_a\\t$ptm_c\\t$rmsd\\t$pruned\\t$runtime_a\\t$runtime_c\" >> benchmark.comparison\n",
    "done\n",
    "cat benchmark.comparison"
   ]
  },
  {
   "cell_type": "code",
   "execution_count": null,
   "id": "364b3d89",
   "metadata": {},
   "outputs": [],
   "source": []
  }
 ],
 "metadata": {
  "kernelspec": {
   "display_name": "Bash",
   "language": "bash",
   "name": "bash"
  },
  "language_info": {
   "codemirror_mode": "shell",
   "file_extension": ".sh",
   "mimetype": "text/x-sh",
   "name": "bash"
  }
 },
 "nbformat": 4,
 "nbformat_minor": 5
}
