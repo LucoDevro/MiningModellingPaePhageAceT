{
 "cells": [
  {
   "cell_type": "code",
   "execution_count": null,
   "id": "07fc9749",
   "metadata": {},
   "outputs": [],
   "source": [
    "import os\n",
    "import matplotlib.pyplot as plt\n",
    "import pandas as pd\n",
    "import numpy as np\n",
    "from Bio import SeqIO"
   ]
  },
  {
   "cell_type": "code",
   "execution_count": null,
   "id": "cb219e44",
   "metadata": {},
   "outputs": [],
   "source": [
    "os.chdir('runs/prod')"
   ]
  },
  {
   "cell_type": "markdown",
   "id": "e93de8b0",
   "metadata": {},
   "source": [
    "### Before TP detection"
   ]
  },
  {
   "cell_type": "code",
   "execution_count": null,
   "id": "c2739ecf",
   "metadata": {
    "scrolled": false
   },
   "outputs": [],
   "source": [
    "my_prots_fasta = '/mnt/DATA/School/2022-2023/Thesis/Scripting/Mining/all.fasta'\n",
    "my_prots = list(SeqIO.to_dict(SeqIO.parse(my_prots_fasta, 'fasta')).keys())\n",
    "my_prots = [''.join(s.split('-')) for s in my_prots]\n",
    "my_prots = ['_'.join(s.split('/')) for s in my_prots]\n",
    "\n",
    "runstats = pd.read_csv('run.scores.log', sep=\"\\t\", skiprows=list(range(1,11)))\n",
    "runstats = runstats[runstats['PDB name'].isin(my_prots)]\n",
    "runstats"
   ]
  },
  {
   "cell_type": "code",
   "execution_count": null,
   "id": "6c0b0968",
   "metadata": {},
   "outputs": [],
   "source": [
    "len(runstats[runstats['pLDDT'] < 70])"
   ]
  },
  {
   "cell_type": "code",
   "execution_count": null,
   "id": "c8dd10b8",
   "metadata": {},
   "outputs": [],
   "source": [
    "len(runstats[runstats['pTM'] < 0.7])"
   ]
  },
  {
   "cell_type": "code",
   "execution_count": null,
   "id": "b36a5e10",
   "metadata": {},
   "outputs": [],
   "source": [
    "bins = 55\n",
    "fig, ax = plt.subplots()\n",
    "plddt = runstats['pLDDT']\n",
    "ax.hist(plddt, bins=np.linspace(min(plddt), max(plddt), bins))\n",
    "ax.axvline(70, ls='--', color='red')\n",
    "plt.xlabel('pLDDT [%]', fontsize=18)\n",
    "plt.ylabel('Count [-]', fontsize=18)\n",
    "ax.tick_params(axis='x', labelsize=16)\n",
    "ax.tick_params(axis='y', labelsize=16)\n",
    "ax.minorticks_on()\n",
    "plt.tight_layout()\n",
    "plt.savefig(\"pLDDT_prod.svg\")"
   ]
  },
  {
   "cell_type": "code",
   "execution_count": null,
   "id": "84c40646",
   "metadata": {},
   "outputs": [],
   "source": [
    "bins = 55\n",
    "fig, ax = plt.subplots()\n",
    "ptm = runstats['pTM']\n",
    "ax.hist(ptm, bins=np.linspace(min(ptm), max(ptm), bins))\n",
    "ax.axvline(0.7, ls='--', color='red')\n",
    "plt.xlabel('pTM [-]', fontsize=18)\n",
    "plt.ylabel('Count [-]', fontsize=18)\n",
    "ax.tick_params(axis='x', labelsize=16)\n",
    "ax.tick_params(axis='y', labelsize=16)\n",
    "ax.minorticks_on()\n",
    "plt.tight_layout()\n",
    "plt.savefig(\"pTM_prod.svg\")"
   ]
  },
  {
   "cell_type": "markdown",
   "id": "cf7c254f",
   "metadata": {},
   "source": [
    "### After TP detection"
   ]
  },
  {
   "cell_type": "code",
   "execution_count": null,
   "id": "d9d9b06a",
   "metadata": {},
   "outputs": [],
   "source": [
    "tps_fasta = '/mnt/DATA/School/2022-2023/Thesis/Scripting/Mining/all.TP.fasta'\n",
    "tps = list(SeqIO.to_dict(SeqIO.parse(tps_fasta, 'fasta')).keys())\n",
    "tps = [''.join(s.split('-')) for s in tps]\n",
    "tps = ['_'.join(s.split('/')) for s in tps]"
   ]
  },
  {
   "cell_type": "markdown",
   "id": "152a7e41",
   "metadata": {},
   "source": [
    "#### FPs"
   ]
  },
  {
   "cell_type": "code",
   "execution_count": null,
   "id": "a91cb06e",
   "metadata": {},
   "outputs": [],
   "source": [
    "runstats_fp = runstats[~runstats['PDB name'].isin(tps)]\n",
    "runstats_fp"
   ]
  },
  {
   "cell_type": "code",
   "execution_count": null,
   "id": "9ef94554",
   "metadata": {},
   "outputs": [],
   "source": [
    "runstats_fp.shape[0]"
   ]
  },
  {
   "cell_type": "code",
   "execution_count": null,
   "id": "ad8c436d",
   "metadata": {},
   "outputs": [],
   "source": [
    "bins = 55\n",
    "fig, ax = plt.subplots()\n",
    "plddt = runstats_fp['pLDDT']\n",
    "ax.hist(plddt, bins=np.linspace(min(plddt), max(plddt), bins))\n",
    "ax.axvline(70, ls='--', color='red')\n",
    "plt.xlabel('pLDDT [%]', fontsize=18)\n",
    "plt.ylabel('Count [-]', fontsize=18)\n",
    "ax.tick_params(axis='x', labelsize=16)\n",
    "ax.tick_params(axis='y', labelsize=16)\n",
    "ax.minorticks_on()\n",
    "plt.tight_layout()\n",
    "plt.savefig(\"pLDDT_prod_FP.svg\")"
   ]
  },
  {
   "cell_type": "code",
   "execution_count": null,
   "id": "ccf07a8a",
   "metadata": {},
   "outputs": [],
   "source": [
    "bins = 55\n",
    "fig, ax = plt.subplots()\n",
    "ptm = runstats_fp['pTM']\n",
    "ax.hist(ptm, bins=np.linspace(min(ptm), max(ptm), bins))\n",
    "ax.axvline(0.7, ls='--', color='red')\n",
    "plt.xlabel('pTM [-]', fontsize=18)\n",
    "plt.ylabel('Count [-]', fontsize=18)\n",
    "ax.tick_params(axis='x', labelsize=16)\n",
    "ax.tick_params(axis='y', labelsize=16)\n",
    "ax.minorticks_on()\n",
    "plt.tight_layout()\n",
    "plt.savefig(\"pTM_prod_FP.svg\")"
   ]
  },
  {
   "cell_type": "markdown",
   "id": "b8b3e51b",
   "metadata": {},
   "source": [
    "#### TPs"
   ]
  },
  {
   "cell_type": "code",
   "execution_count": null,
   "id": "26432bf9",
   "metadata": {},
   "outputs": [],
   "source": [
    "runstats_tp = runstats[runstats['PDB name'].isin(tps)]\n",
    "runstats_tp"
   ]
  },
  {
   "cell_type": "code",
   "execution_count": null,
   "id": "f8c9c1a3",
   "metadata": {},
   "outputs": [],
   "source": [
    "len(runstats_tp[runstats_tp['pLDDT'] < 70])"
   ]
  },
  {
   "cell_type": "code",
   "execution_count": null,
   "id": "9eaaaf71",
   "metadata": {},
   "outputs": [],
   "source": [
    "len(runstats_tp[runstats_tp['pTM'] < 0.7])"
   ]
  },
  {
   "cell_type": "code",
   "execution_count": null,
   "id": "143f99ad",
   "metadata": {},
   "outputs": [],
   "source": [
    "bins = 55\n",
    "fig, ax = plt.subplots()\n",
    "plddt = runstats_tp['pLDDT']\n",
    "ax.hist(plddt, bins=np.linspace(min(plddt), max(plddt), bins))\n",
    "ax.axvline(70, ls='--', color='red')\n",
    "plt.xlabel('pLDDT [%]', fontsize=18)\n",
    "plt.ylabel('Count [-]', fontsize=18)\n",
    "ax.tick_params(axis='x', labelsize=16)\n",
    "ax.tick_params(axis='y', labelsize=16)\n",
    "ax.minorticks_on()\n",
    "plt.tight_layout()\n",
    "plt.savefig(\"pLDDT_prod_TP.svg\")"
   ]
  },
  {
   "cell_type": "code",
   "execution_count": null,
   "id": "e1c44cfa",
   "metadata": {},
   "outputs": [],
   "source": [
    "bins = 55\n",
    "fig, ax = plt.subplots()\n",
    "ptm = runstats_tp['pTM']\n",
    "ax.hist(ptm, bins=np.linspace(min(ptm), max(ptm), bins))\n",
    "ax.axvline(0.7, ls='--', color='red')\n",
    "plt.xlabel('pTM [-]', fontsize=18)\n",
    "plt.ylabel('Count [-]', fontsize=18)\n",
    "ax.tick_params(axis='x', labelsize=16)\n",
    "ax.tick_params(axis='y', labelsize=16)\n",
    "ax.minorticks_on()\n",
    "plt.tight_layout()\n",
    "plt.savefig(\"pTM_prod_TP.svg\")"
   ]
  },
  {
   "cell_type": "code",
   "execution_count": null,
   "id": "4857d456",
   "metadata": {},
   "outputs": [],
   "source": []
  }
 ],
 "metadata": {
  "kernelspec": {
   "display_name": "Python 3",
   "language": "python",
   "name": "python3"
  },
  "language_info": {
   "codemirror_mode": {
    "name": "ipython",
    "version": 3
   },
   "file_extension": ".py",
   "mimetype": "text/x-python",
   "name": "python",
   "nbconvert_exporter": "python",
   "pygments_lexer": "ipython3",
   "version": "3.8.10"
  }
 },
 "nbformat": 4,
 "nbformat_minor": 5
}
