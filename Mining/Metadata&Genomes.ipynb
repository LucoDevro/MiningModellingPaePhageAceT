{
 "cells": [
  {
   "cell_type": "markdown",
   "id": "ab638649",
   "metadata": {},
   "source": [
    "ICTV Metadata downloaded from https://ictv.global/vmr (version 37.2)\n",
    "\n",
    "Extracted Pseudomonas phages in Excel to separate sheet and exported them to ICTV_Metadata_raw.txt"
   ]
  },
  {
   "cell_type": "code",
   "execution_count": null,
   "id": "86da4c8f",
   "metadata": {},
   "outputs": [],
   "source": [
    "cut -f11 ICTV_Metadata_raw.txt | tail -n +2 > ICTV_Metadata_PaePhageIDs.txt"
   ]
  },
  {
   "cell_type": "markdown",
   "id": "fac52241",
   "metadata": {},
   "source": [
    "Submitting it to Batch Entrez (apparently removing one duplicate entry): AllGenBank.gb\n",
    "\n",
    "Splitting GenBank files and extracting accession number and host information if available"
   ]
  },
  {
   "cell_type": "code",
   "execution_count": null,
   "id": "4e42a5f3",
   "metadata": {},
   "outputs": [],
   "source": [
    "bash 'Splitter&Scraper.sh'\n",
    "cat hosts"
   ]
  },
  {
   "cell_type": "markdown",
   "id": "f9851124",
   "metadata": {},
   "source": [
    "Downloading all CDSs by checking the coding sequence records in NCBI download menu (searches for all CDS tags in all GenBank records)."
   ]
  },
  {
   "cell_type": "markdown",
   "id": "23ff3d28",
   "metadata": {},
   "source": [
    "Checking whether all phages have CDSs assigned "
   ]
  },
  {
   "cell_type": "code",
   "execution_count": null,
   "id": "323b105f",
   "metadata": {},
   "outputs": [],
   "source": [
    "wc -l ICTV_Metadata_PaePhageIDs.txt"
   ]
  },
  {
   "cell_type": "markdown",
   "id": "582e6077",
   "metadata": {},
   "source": [
    "-1 for that one duplicate entry"
   ]
  },
  {
   "cell_type": "code",
   "execution_count": null,
   "id": "10989c60",
   "metadata": {},
   "outputs": [],
   "source": [
    "cat PaePhages_CDSs.fasta | grep '>' | cut -d '|' -f 2 | cut -d '.' -f 1 | sort -u | wc -l"
   ]
  },
  {
   "cell_type": "code",
   "execution_count": null,
   "id": "da4bc0a6",
   "metadata": {},
   "outputs": [],
   "source": [
    "comm -3 <(cat PaePhages_CDSs.fasta | grep '>' | cut -d '|' -f 2 | cut -d '.' -f 1 | sort -u) \\\n",
    "        <(sort -u ICTV_Metadata_PaePhageIDs.txt)"
   ]
  },
  {
   "cell_type": "markdown",
   "id": "852997a0",
   "metadata": {},
   "source": [
    "8 phages do not have CDSs assigned, so we can't mine these"
   ]
  },
  {
   "cell_type": "code",
   "execution_count": null,
   "id": "dea2b4a5",
   "metadata": {},
   "outputs": [],
   "source": []
  }
 ],
 "metadata": {
  "kernelspec": {
   "display_name": "Bash",
   "language": "bash",
   "name": "bash"
  },
  "language_info": {
   "codemirror_mode": "shell",
   "file_extension": ".sh",
   "mimetype": "text/x-sh",
   "name": "bash"
  }
 },
 "nbformat": 4,
 "nbformat_minor": 5
}
