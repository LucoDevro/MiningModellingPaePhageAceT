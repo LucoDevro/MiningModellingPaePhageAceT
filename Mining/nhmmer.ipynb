{
 "cells": [
  {
   "cell_type": "markdown",
   "id": "f5059187",
   "metadata": {},
   "source": [
    "### Construction of the initial set"
   ]
  },
  {
   "cell_type": "code",
   "execution_count": null,
   "id": "d2a37e7b",
   "metadata": {},
   "outputs": [],
   "source": [
    "cd GNAT"
   ]
  },
  {
   "cell_type": "markdown",
   "id": "24bcb0c1",
   "metadata": {},
   "source": [
    "NCBI Gene: query = \"(GNAT) AND (Pseudomonas phage)\" -> 34 hits\n",
    "\n",
    "See also `GNAT_Gene.txt`"
   ]
  },
  {
   "cell_type": "code",
   "execution_count": null,
   "id": "eb9cf30a",
   "metadata": {
    "scrolled": true
   },
   "outputs": [],
   "source": [
    "cat GNAT_Gene.txt"
   ]
  },
  {
   "cell_type": "markdown",
   "id": "4a3556bf",
   "metadata": {},
   "source": [
    "Restricting to ICTV viruses -> 32 hits\n",
    "\n",
    "Manual cut-and-paste into GNAT_Nucl.fasta"
   ]
  },
  {
   "cell_type": "code",
   "execution_count": null,
   "id": "b88494be",
   "metadata": {},
   "outputs": [],
   "source": [
    "head GNAT_Nucl.fasta"
   ]
  },
  {
   "cell_type": "code",
   "execution_count": null,
   "id": "e2353eb6",
   "metadata": {},
   "outputs": [],
   "source": [
    "grep -c '>' GNAT_Nucl.fasta"
   ]
  },
  {
   "cell_type": "markdown",
   "id": "fa68bdf7",
   "metadata": {},
   "source": [
    "### Constructing HMM"
   ]
  },
  {
   "cell_type": "code",
   "execution_count": null,
   "id": "3ebb9b90",
   "metadata": {},
   "outputs": [],
   "source": [
    "clustalo -i GNAT_Nucl.fasta -o GNAT.sto --outfmt=st -v --force"
   ]
  },
  {
   "cell_type": "code",
   "execution_count": null,
   "id": "c4bff670",
   "metadata": {},
   "outputs": [],
   "source": [
    "hmmbuild GNAT.hmm GNAT.sto"
   ]
  },
  {
   "cell_type": "markdown",
   "id": "71b12c38",
   "metadata": {},
   "source": [
    "### nhmmer"
   ]
  },
  {
   "cell_type": "code",
   "execution_count": null,
   "id": "71a8fe45",
   "metadata": {},
   "outputs": [],
   "source": [
    "cd .."
   ]
  },
  {
   "cell_type": "code",
   "execution_count": null,
   "id": "0913b13c",
   "metadata": {},
   "outputs": [],
   "source": [
    "genome_db=\"/mnt/DATA/School/2022-2023/Thesis/Scripting/Mining/PaePhageInfoRetrieval/AllGenBank.gb\""
   ]
  },
  {
   "cell_type": "code",
   "execution_count": null,
   "id": "78fccfbf",
   "metadata": {
    "scrolled": true
   },
   "outputs": [],
   "source": [
    "nhmmer -E 0.001 -o ./GNAT/ICTV_nhmmer_GNAT.out \\\n",
    "    --tblout ./GNAT/ICTV_nhmmer_GNAT.out.table \\\n",
    "    ./GNAT/GNAT.hmm $genome_db\n",
    "cat ./GNAT/ICTV_nhmmer_GNAT.out"
   ]
  },
  {
   "cell_type": "code",
   "execution_count": null,
   "id": "e2430e9d",
   "metadata": {},
   "outputs": [],
   "source": [
    "grep -c ! ./GNAT/ICTV_nhmmer_GNAT.out\n",
    "grep -c ? ./GNAT/ICTV_nhmmer_GNAT.out"
   ]
  },
  {
   "cell_type": "markdown",
   "id": "ac76ac5f",
   "metadata": {},
   "source": [
    "57 significant hits, including 2 LUZ19 proteins"
   ]
  },
  {
   "cell_type": "markdown",
   "id": "ea859913",
   "metadata": {},
   "source": [
    "Quite some phages of the phikmv genus appear twice (e.g. PT2, PT5, LUZ19, phiKF77, PAXYB1, RLP, MPK7), once for a sequence at front of the genome (~ 7000 bp) and once at the back (~ 21000 bp)\n",
    "\n",
    "Also some phages of the uliginvirus genus appear twice (Achelous, Nerthus) or are close to significant (Alpheus)"
   ]
  },
  {
   "cell_type": "markdown",
   "id": "cd63ce7c",
   "metadata": {},
   "source": [
    "### Count statistics and species assignment"
   ]
  },
  {
   "cell_type": "code",
   "execution_count": null,
   "id": "715325c9",
   "metadata": {},
   "outputs": [],
   "source": [
    "cd GNAT"
   ]
  },
  {
   "cell_type": "code",
   "execution_count": null,
   "id": "e527c90c",
   "metadata": {},
   "outputs": [],
   "source": [
    "metadata=\"/mnt/DATA/School/2022-2023/Thesis/Scripting/Mining/PaePhageInfoRetrieval/ICTV_Metadata_raw.txt\""
   ]
  },
  {
   "cell_type": "code",
   "execution_count": null,
   "id": "509a5e39",
   "metadata": {},
   "outputs": [],
   "source": [
    "cat ICTV_nhmmer_GNAT.out.table"
   ]
  },
  {
   "cell_type": "code",
   "execution_count": null,
   "id": "b848657b",
   "metadata": {
    "scrolled": true
   },
   "outputs": [],
   "source": [
    "accNr=$(grep -vE '^#' ICTV_nhmmer_GNAT.out.table | cut -c -9)\n",
    "for nr in $accNr\n",
    "do\n",
    "grep $nr $metadata | cut -f 10 >> species\n",
    "grep $nr $metadata | cut -f 8 >> genus\n",
    "echo $nr >> accession\n",
    "done\n",
    "paste species accession genus > nhmmer.out.species\n",
    "rm species\n",
    "rm genus\n",
    "rm accession\n",
    "cat nhmmer.out.species"
   ]
  },
  {
   "cell_type": "code",
   "execution_count": null,
   "id": "04a86689",
   "metadata": {},
   "outputs": [],
   "source": [
    "sort nhmmer.out.species | uniq > counted.species\n",
    "sort nhmmer.out.species | uniq -c | tr -s ' ' '\\t' | cut -f 2 > counts.raw\n",
    "paste counted.species counts.raw > counts\n",
    "rm counts.raw\n",
    "rm counted.species\n",
    "cat counts"
   ]
  },
  {
   "cell_type": "code",
   "execution_count": null,
   "id": "daeaf77a",
   "metadata": {},
   "outputs": [],
   "source": [
    "cut -f 3 counts | sort | uniq -c"
   ]
  },
  {
   "cell_type": "code",
   "execution_count": null,
   "id": "eed487a3",
   "metadata": {},
   "outputs": [],
   "source": [
    "wc -l counts"
   ]
  },
  {
   "cell_type": "code",
   "execution_count": null,
   "id": "133afbee",
   "metadata": {},
   "outputs": [],
   "source": [
    "cut -f 2 GNAT_Gene.txt | tail -n +2 | sort | uniq > species\n",
    "while read line\n",
    "do\n",
    "if [ -z $(grep \"$line\" counts | cut -f 3) ]\n",
    "then\n",
    "echo \"Non-ICTV\" >> genus\n",
    "else\n",
    "grep \"$line\" counts | cut -f 3 >> genus\n",
    "fi\n",
    "done<species\n",
    "cut -f 2 GNAT_Gene.txt | tail -n +2 | sort | uniq -c | tr -s ' ' '\\t' | cut -f 2 > species.counts\n",
    "paste species genus species.counts > nhmmer.in\n",
    "rm genus\n",
    "rm species.counts\n",
    "rm species\n",
    "cat nhmmer.in"
   ]
  },
  {
   "cell_type": "code",
   "execution_count": null,
   "id": "43edf4d3",
   "metadata": {},
   "outputs": [],
   "source": [
    "comm -23 <(cut -f 1 counts) <(cut -f 1 nhmmer.in) > nhmmer.new.species\n",
    "while read s\n",
    "do\n",
    "grep \"$s\" counts | cut -f 3 >> nhmmer.new.genus\n",
    "done<nhmmer.new.species\n",
    "paste nhmmer.new.species nhmmer.new.genus > nhmmer.new\n",
    "rm nhmmer.new.genus\n",
    "rm nhmmer.new.species\n",
    "cat nhmmer.new"
   ]
  },
  {
   "cell_type": "code",
   "execution_count": null,
   "id": "c284dfe9",
   "metadata": {},
   "outputs": [],
   "source": [
    "cut -f 2 nhmmer.new | sort | uniq -c"
   ]
  },
  {
   "cell_type": "code",
   "execution_count": null,
   "id": "658cb2c9",
   "metadata": {},
   "outputs": [],
   "source": []
  }
 ],
 "metadata": {
  "kernelspec": {
   "display_name": "Bash",
   "language": "bash",
   "name": "bash"
  },
  "language_info": {
   "codemirror_mode": "shell",
   "file_extension": ".sh",
   "mimetype": "text/x-sh",
   "name": "bash"
  }
 },
 "nbformat": 4,
 "nbformat_minor": 5
}
