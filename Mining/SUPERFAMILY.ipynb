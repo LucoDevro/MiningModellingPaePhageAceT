{
 "cells": [
  {
   "cell_type": "code",
   "execution_count": null,
   "id": "c718ce93",
   "metadata": {},
   "outputs": [],
   "source": [
    "interproscan=\"/home/lucas/bin/interproscan/interproscan.sh\"\n",
    "cds_db=\"/mnt/DATA/School/2022-2023/Thesis/Scripting/Mining/PaePhageInfoRetrieval/PaePhages_CDSs.fasta\"\n",
    "metadata=\"/mnt/DATA/School/2022-2023/Thesis/Scripting/Mining/PaePhageInfoRetrieval/ICTV_Metadata_raw.txt\""
   ]
  },
  {
   "cell_type": "markdown",
   "id": "71927e9f",
   "metadata": {},
   "source": [
    "### Preprocessing"
   ]
  },
  {
   "cell_type": "markdown",
   "id": "e3c001f0",
   "metadata": {},
   "source": [
    "InterproScan can't handle wildcard characters in the fasta file, so these entries have to be removed."
   ]
  },
  {
   "cell_type": "code",
   "execution_count": null,
   "id": "6aaa48ad",
   "metadata": {},
   "outputs": [],
   "source": [
    "cat preprocessing.py"
   ]
  },
  {
   "cell_type": "code",
   "execution_count": null,
   "id": "579e11fa",
   "metadata": {},
   "outputs": [],
   "source": [
    "python3 preprocessing.py $cds_db\n",
    "dir"
   ]
  },
  {
   "cell_type": "code",
   "execution_count": null,
   "id": "6d0cf256",
   "metadata": {},
   "outputs": [],
   "source": [
    "processed_cds_db=\"PaePhages_CDSs_filtered.fasta\""
   ]
  },
  {
   "cell_type": "markdown",
   "id": "cf8b3d3b",
   "metadata": {},
   "source": [
    "### SUPERFAMILY scan"
   ]
  },
  {
   "cell_type": "code",
   "execution_count": null,
   "id": "475f5854",
   "metadata": {},
   "outputs": [],
   "source": [
    "$interproscan -i $processed_cds_db -o SUPFAM.out -f tsv -appl SUPERFAMILY --cpu 6 --verbose"
   ]
  },
  {
   "cell_type": "code",
   "execution_count": null,
   "id": "fad021b9",
   "metadata": {},
   "outputs": [],
   "source": [
    "dir"
   ]
  },
  {
   "cell_type": "code",
   "execution_count": null,
   "id": "07ad2d5a",
   "metadata": {},
   "outputs": [],
   "source": [
    "head SUPFAM.out"
   ]
  },
  {
   "cell_type": "markdown",
   "id": "2abae224",
   "metadata": {},
   "source": [
    "### Counting and species assignment"
   ]
  },
  {
   "cell_type": "code",
   "execution_count": null,
   "id": "c7b72c47",
   "metadata": {},
   "outputs": [],
   "source": [
    "grep 'Acyl-CoA N-acyltransferases (Nat)' SUPFAM.out | cut -f 1 > Results_IDs\n",
    "wc -l Results_IDs"
   ]
  },
  {
   "cell_type": "code",
   "execution_count": null,
   "id": "ca44d48f",
   "metadata": {},
   "outputs": [],
   "source": [
    "rm -f species\n",
    "cut -c 5-12 Results_IDs | sort > tmp\n",
    "while read p\n",
    "do\n",
    "grep $p $metadata | cut -f 10-11 >> species\n",
    "done<tmp\n",
    "rm tmp\n",
    "cat species"
   ]
  },
  {
   "cell_type": "code",
   "execution_count": null,
   "id": "2d76418f",
   "metadata": {},
   "outputs": [],
   "source": [
    "paste <(uniq species) <(uniq -c species | grep -Eo \" +[0-9]+ +\" | tr -d ' ') > species.counts\n",
    "cat species.counts"
   ]
  },
  {
   "cell_type": "code",
   "execution_count": null,
   "id": "99fd04f6",
   "metadata": {},
   "outputs": [],
   "source": []
  }
 ],
 "metadata": {
  "kernelspec": {
   "display_name": "Bash",
   "language": "bash",
   "name": "bash"
  },
  "language_info": {
   "codemirror_mode": "shell",
   "file_extension": ".sh",
   "mimetype": "text/x-sh",
   "name": "bash"
  }
 },
 "nbformat": 4,
 "nbformat_minor": 5
}
