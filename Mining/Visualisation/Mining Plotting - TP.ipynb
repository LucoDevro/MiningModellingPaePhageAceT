{
 "cells": [
  {
   "cell_type": "code",
   "execution_count": null,
   "id": "a299e31d",
   "metadata": {},
   "outputs": [],
   "source": [
    "import matplotlib.pyplot as plt\n",
    "import os\n",
    "import pandas as pd\n",
    "import numpy as np"
   ]
  },
  {
   "cell_type": "code",
   "execution_count": null,
   "id": "bf775cd3",
   "metadata": {},
   "outputs": [],
   "source": [
    "os.chdir('/mnt/DATA/School/2022-2023/Thesis/Scripting/Mining')"
   ]
  },
  {
   "cell_type": "markdown",
   "id": "f92a3716",
   "metadata": {},
   "source": [
    "### Taxonomy"
   ]
  },
  {
   "cell_type": "code",
   "execution_count": null,
   "id": "596e461e",
   "metadata": {},
   "outputs": [],
   "source": [
    "file = pd.ExcelFile(\"Overview.xlsx\")\n",
    "taxonomy = pd.read_excel(file, \"Counts per species\", usecols=[0,1,2,3,20])[:77].fillna(\"Unclassified\")\n",
    "taxonomy = taxonomy[taxonomy[\"Total TP counts\"] > 0]\n",
    "outer = taxonomy.groupby(['Family', 'Subfamily','Genus']).count()['Name']\n",
    "outer_labels = outer.index.get_level_values(2)\n",
    "middle = taxonomy.groupby(['Family', 'Subfamily']).count()['Name']\n",
    "middle_labels = middle.index.get_level_values(1)\n",
    "inner = taxonomy.groupby(['Family']).count()['Name']\n",
    "inner_labels = inner.index.get_level_values(0)"
   ]
  },
  {
   "cell_type": "code",
   "execution_count": null,
   "id": "155f73bd",
   "metadata": {},
   "outputs": [],
   "source": [
    "taxonomy"
   ]
  },
  {
   "cell_type": "code",
   "execution_count": null,
   "id": "21aea6a7",
   "metadata": {},
   "outputs": [],
   "source": [
    "fig, ax = plt.subplots(figsize=(12,12))\n",
    "\n",
    "cmap1 = plt.cm.Reds\n",
    "cmap2 = plt.cm.Blues\n",
    "cmap3 = plt.cm.Greens\n",
    "inner_colors = [cmap1(0.99), cmap2(0.99), cmap3(0.99)]\n",
    "middle_colors = [*cmap1(np.linspace(0.95,0.7,5)),\n",
    "                 *cmap2(np.linspace(0.95,0.7,1)),\n",
    "                 *cmap3(np.linspace(0.95,0.7,1))]\n",
    "outer_colors = [*cmap1(np.linspace(0.75,0.25,14)),\n",
    "                *cmap2(np.linspace(0.75,0.25,1)),\n",
    "                *cmap3(np.linspace(0.75,0.25,5))]\n",
    "\n",
    "outer_data=outer.values.flatten()\n",
    "outer_total=sum(outer_data)\n",
    "middle_data=middle.values.flatten()\n",
    "middle_total=sum(middle_data)\n",
    "inner_data=inner.values.flatten()\n",
    "inner_total=sum(inner_data)\n",
    "\n",
    "patches,_,autotexts = ax.pie(outer_data, radius=1, colors=outer_colors,\n",
    "       startangle=100, autopct = lambda l: '{:.0f}'.format(l*outer_total/100), pctdistance=0.95,\n",
    "       labels=outer_labels, labeldistance=1.05, rotatelabels=True,\n",
    "       wedgeprops=dict(width=0.1, edgecolor='k', linewidth=2),\n",
    "       textprops={'size': 'x-large', 'fontweight': 'bold'})\n",
    "for autotext in autotexts:\n",
    "    autotext.set_color('white')\n",
    "\n",
    "patches = ax.pie(middle_data, radius=1-0.1, colors=middle_colors,\n",
    "       startangle=100,\n",
    "       labels=middle_labels, labeldistance=0.6, rotatelabels=True,\n",
    "       wedgeprops=dict(width=0.36, edgecolor='k', linewidth=2),\n",
    "       textprops={'size': 'large', 'fontweight': 'bold', 'color': 'white'})\n",
    "for i in range(len(patches[0])):\n",
    "    if i in [4,6]:\n",
    "        patches[0][i].set_hatch(\"///\")\n",
    "        patches[0][i].set_linewidth(4)\n",
    "\n",
    "patches = ax.pie(inner_data, radius=1-0.46, colors=inner_colors,\n",
    "       startangle=100,\n",
    "       labels = inner_labels, labeldistance=0.05, rotatelabels=True,\n",
    "       wedgeprops=dict(width=0.54, edgecolor='k', linewidth=2),\n",
    "       textprops={'size': 'large', 'fontweight': 'bold', 'color': 'white'})\n",
    "for i in range(len(patches[0])):\n",
    "    if i in [2]:\n",
    "        patches[0][i].set_hatch(\"///\")\n",
    "        patches[0][i].set_linewidth(4)\n",
    "\n",
    "ax.set(aspect=\"equal\")\n",
    "plt.tight_layout()\n",
    "plt.savefig(\"./figures_TP/Taxonomy_TP.svg\")"
   ]
  },
  {
   "cell_type": "markdown",
   "id": "08173536",
   "metadata": {},
   "source": [
    "### Characteristics of found AceT"
   ]
  },
  {
   "cell_type": "code",
   "execution_count": null,
   "id": "254663e8",
   "metadata": {},
   "outputs": [],
   "source": [
    "mining_prot = pd.read_csv(\"protein_list_all_TP\", sep=\"\\t\")"
   ]
  },
  {
   "cell_type": "markdown",
   "id": "3d24536e",
   "metadata": {},
   "source": [
    "**Protein length**"
   ]
  },
  {
   "cell_type": "code",
   "execution_count": null,
   "id": "e2ff7ea9",
   "metadata": {},
   "outputs": [],
   "source": [
    "length=mining_prot[\"Length\"]\n",
    "\n",
    "bins = 100\n",
    "fig, ax = plt.subplots()\n",
    "ax.hist(length, bins=np.linspace(min(length), max(length), bins))\n",
    "plt.xlabel('Length [AA]', fontsize=18)\n",
    "plt.ylabel('Count [-]', fontsize=18)\n",
    "ax.tick_params(axis='x', labelsize=16)\n",
    "ax.tick_params(axis='y', labelsize=16)\n",
    "plt.yticks(range(0,16,4))\n",
    "ax.minorticks_on()\n",
    "plt.tight_layout()\n",
    "plt.savefig(\"./figures_TP/Protein_length_TP.svg\")"
   ]
  },
  {
   "cell_type": "markdown",
   "id": "be479c78",
   "metadata": {},
   "source": [
    "**Host distribution**"
   ]
  },
  {
   "cell_type": "code",
   "execution_count": null,
   "id": "82fbcf78",
   "metadata": {},
   "outputs": [],
   "source": [
    "host_counts_raw = mining_prot.groupby(\"Host\").count()['# Species']\n",
    "host_counts = pd.DataFrame()\n",
    "names = list(host_counts_raw.index)\n",
    "species=['Pseudomonas aeruginosa','Pseudomonas agarici','Pseudomonas coronafaciens','Pseudomonas fluorescens',\\\n",
    "         'Pseudomonas plecoglossicida', 'Pseudomonas putida', 'Pseudomonas syringae','Pseudomonas tolaasii']\n",
    "rem_indices = set(range(len(names)))\n",
    "for s in species:\n",
    "    indices = [i for i in range(len(names)) if s in names[i]]\n",
    "    host_counts[s] = [host_counts_raw[indices].sum()]\n",
    "    rem_indices = rem_indices.difference(indices)\n",
    "host_counts['Pseudomonas unspecified'] = [host_counts_raw[rem_indices].sum()]\n",
    "host_counts = host_counts.T\n",
    "host_counts.columns = ['Counts']\n",
    "host_counts = host_counts[host_counts['Counts'] > 0]\n",
    "host_counts.index = [list(host_counts.index)[i].split(\" \")[1] for i in range(len(host_counts.index))]"
   ]
  },
  {
   "cell_type": "code",
   "execution_count": null,
   "id": "1a53b648",
   "metadata": {},
   "outputs": [],
   "source": [
    "fig, ax = plt.subplots(tight_layout=True, figsize=(8,8))\n",
    "\n",
    "cmap1 = plt.cm.Reds\n",
    "cmap2 = plt.cm.Blues\n",
    "colors = [*cmap2(np.linspace(0.8,0.1,7)),\n",
    "          *cmap1([0.8])]\n",
    "\n",
    "labels = host_counts.index\n",
    "total = host_counts.sum()[0]\n",
    "ax.pie(host_counts.values.flatten(), labels = labels, rotatelabels = False, colors = colors,\n",
    "       pctdistance = 0.85, labeldistance = 1.2,\n",
    "       autopct = lambda l: '{:.0f}'.format(l*total/100), startangle = -30,\n",
    "       textprops={'size': 'xx-large', 'fontweight': 'bold'})\n",
    "plt.tight_layout()\n",
    "plt.savefig(\"./figures_TP/Host_TP.svg\")"
   ]
  },
  {
   "cell_type": "markdown",
   "id": "d0d7491c",
   "metadata": {},
   "source": [
    "**Annotation**"
   ]
  },
  {
   "cell_type": "code",
   "execution_count": null,
   "id": "b3e14b76",
   "metadata": {},
   "outputs": [],
   "source": [
    "annotation_raw = mining_prot.groupby(\"Annotation\").count()[\"# Species\"]\n",
    "mapping = {\n",
    "    'GNAT family N-acetyltransferase': 'GNAT family N-acetyltransferase',\n",
    "    'GNAT family acetyltransferase protein': 'GNAT family N-acetyltransferase',\n",
    "    'acyl-CoA N acetyltransferase': 'acyl-CoA N-acetyltransferase',\n",
    "    'hypothetical protein': 'hypothetical protein',\n",
    "    'ORF.29': 'hypothetical protein',\n",
    "    'PHIKZ041.3': 'hypothetical protein',\n",
    "    'conserved hypothetical phage protein': 'hypothetical protein',\n",
    "    'hypothetical phage protein': 'hypothetical protein',\n",
    "    'unknown': 'hypothetical protein',\n",
    "    'internal virion protein A': '(putative) internal virion protein A',\n",
    "    'putative internal virion protein A': '(putative) internal virion protein A',\n",
    "    'interval virion protein A': '(putative) internal virion protein A',\n",
    "    'protein inside capsid A': '(putative) internal virion protein A'\n",
    "}\n",
    "mining_prot[\"Mapping\"] = mining_prot[\"Annotation\"]\n",
    "for i in mining_prot.index:\n",
    "    try:\n",
    "        mining_prot['Mapping'][i] = mapping[mining_prot['Mapping'][i]]\n",
    "    except:\n",
    "        continue\n",
    "order = [1,2,6,3,4,0,5,7]\n",
    "annotation = mining_prot.groupby(\"Mapping\").count()[\"# Species\"][order]\n",
    "annotation"
   ]
  },
  {
   "cell_type": "code",
   "execution_count": null,
   "id": "89fa90db",
   "metadata": {},
   "outputs": [],
   "source": [
    "fig, ax = plt.subplots(tight_layout=True, figsize=(14,6))\n",
    "\n",
    "cmap1 = plt.cm.Reds\n",
    "cmap2 = plt.cm.Greens\n",
    "colors = [*cmap2(np.linspace(0.8,0.3,4)),\n",
    "          'tab:gray',\n",
    "          *cmap1(np.linspace(0.8,0.3,3))]\n",
    "\n",
    "labels = annotation.index\n",
    "total = annotation.sum()\n",
    "ax.pie(annotation.values.flatten(), labels = labels, explode = (0.1,0.1,0.1,0.1,0,0,0,0),\n",
    "       rotatelabels = False, pctdistance = 0.85, labeldistance = 1.1, startangle = -20,\n",
    "       autopct = lambda l: '{:.0f}'.format(l*total/100), colors = colors,\n",
    "       textprops={'size': 'x-large', 'fontweight': 'bold'})\n",
    "plt.tight_layout()\n",
    "plt.savefig(\"./figures_TP/Annotation_TP.svg\")"
   ]
  },
  {
   "cell_type": "code",
   "execution_count": null,
   "id": "762984b7",
   "metadata": {},
   "outputs": [],
   "source": []
  }
 ],
 "metadata": {
  "kernelspec": {
   "display_name": "Python 3",
   "language": "python",
   "name": "python3"
  },
  "language_info": {
   "codemirror_mode": {
    "name": "ipython",
    "version": 3
   },
   "file_extension": ".py",
   "mimetype": "text/x-python",
   "name": "python",
   "nbconvert_exporter": "python",
   "pygments_lexer": "ipython3",
   "version": "3.8.10"
  }
 },
 "nbformat": 4,
 "nbformat_minor": 5
}
