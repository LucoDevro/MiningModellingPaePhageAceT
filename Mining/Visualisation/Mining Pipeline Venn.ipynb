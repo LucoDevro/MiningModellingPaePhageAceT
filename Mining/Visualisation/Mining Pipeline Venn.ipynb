{
 "cells": [
  {
   "cell_type": "code",
   "execution_count": null,
   "id": "f6e19069",
   "metadata": {},
   "outputs": [],
   "source": [
    "library(VennDiagram)"
   ]
  },
  {
   "cell_type": "markdown",
   "id": "e2261269",
   "metadata": {},
   "source": [
    "### All hits"
   ]
  },
  {
   "cell_type": "code",
   "execution_count": null,
   "id": "78c80338",
   "metadata": {},
   "outputs": [],
   "source": [
    "nhmmer = unlist(array(read.table(\"nhmmer.new\", sep=\"\\t\")))\n",
    "phmmer = unlist(array(read.table(\"phmmer.new\", sep=\"\\t\")))\n",
    "supfam = unlist(array(read.table(\"supfam.new\", sep=\"\\t\")))\n",
    "hhblits = unlist(array(read.table(\"hhblits.new\", sep=\"\\t\")))"
   ]
  },
  {
   "cell_type": "code",
   "execution_count": null,
   "id": "de49431e",
   "metadata": {},
   "outputs": [],
   "source": [
    "venn.diagram(\n",
    "    x = list(\n",
    "        'NH' = nhmmer,\n",
    "        'PH' = phmmer,\n",
    "        'SF' = supfam,\n",
    "        'HHB' = hhblits\n",
    "        ),\n",
    "    filename = \"Venn_mining_results.png\",\n",
    "    imagetype = 'png',\n",
    "    col = \"black\",\n",
    "    lty = \"dotted\",\n",
    "    lwd = 4,\n",
    "    fill = c(\"cornflowerblue\", \"green\", \"yellow\", \"darkorchid1\"),\n",
    "    alpha = 0.50,\n",
    "    label.col = c(\"orange\", \"white\", \"darkorchid4\", \"white\", \"white\", \"white\", \"white\", \"white\", \"darkblue\", \"white\", \"white\", \"white\", \"white\", \"darkgreen\", \"white\"),\n",
    "    cex = 2.5,\n",
    "    fontfamily = \"serif\",\n",
    "    fontface = \"bold\",\n",
    "    cat.col = c(\"darkblue\", \"darkgreen\", \"orange\", \"darkorchid4\"),\n",
    "    cat.cex = 2.5,\n",
    "    cat.fontfamily = \"serif\",\n",
    "    disable.logging = TRUE\n",
    "    );"
   ]
  },
  {
   "cell_type": "markdown",
   "id": "c9a8942c",
   "metadata": {},
   "source": [
    "### TPs only"
   ]
  },
  {
   "cell_type": "code",
   "execution_count": null,
   "id": "4372d336",
   "metadata": {},
   "outputs": [],
   "source": [
    "false.positives = unlist(array(read.table('false.positives')))\n",
    "nhmmer.tp = nhmmer[!(nhmmer %in% false.positives)]\n",
    "phmmer.tp = phmmer[!(phmmer %in% false.positives)]\n",
    "supfam.tp = supfam[!(supfam %in% false.positives)]\n",
    "hhblits.tp = hhblits[!(hhblits %in% false.positives)]"
   ]
  },
  {
   "cell_type": "code",
   "execution_count": null,
   "id": "c24f825a",
   "metadata": {},
   "outputs": [],
   "source": [
    "write.table(nhmmer.tp, \"nhmmer.new.TP\", col.names=FALSE, row.names=FALSE, quote=FALSE)\n",
    "write.table(phmmer.tp, \"phmmer.new.TP\", col.names=FALSE, row.names=FALSE, quote=FALSE)\n",
    "write.table(supfam.tp, \"supfam.new.TP\", col.names=FALSE, row.names=FALSE, quote=FALSE)\n",
    "write.table(hhblits.tp, \"hhblits.new.TP\", col.names=FALSE, row.names=FALSE, quote=FALSE)"
   ]
  },
  {
   "cell_type": "code",
   "execution_count": null,
   "id": "03d00c08",
   "metadata": {},
   "outputs": [],
   "source": [
    "venn.diagram(\n",
    "    x = list(\n",
    "        'NH' = nhmmer.tp,\n",
    "        'PH' = phmmer.tp,\n",
    "        'SF' = supfam.tp,\n",
    "        'HHB' = hhblits.tp\n",
    "        ),\n",
    "    filename = \"Venn_mining_results_tp.png\",\n",
    "    imagetype = 'png',\n",
    "    col = \"black\",\n",
    "    lty = \"dotted\",\n",
    "    lwd = 4,\n",
    "    fill = c(\"cornflowerblue\", \"green\", \"yellow\", \"darkorchid1\"),\n",
    "    alpha = 0.50,\n",
    "    label.col = c(\"orange\", \"white\", \"darkorchid4\", \"white\", \"white\", \"white\", \"white\", \"white\", \"darkblue\", \"white\", \"white\", \"white\", \"white\", \"darkgreen\", \"white\"),\n",
    "    cex = 2.5,\n",
    "    fontfamily = \"serif\",\n",
    "    fontface = \"bold\",\n",
    "    cat.col = c(\"darkblue\", \"darkgreen\", \"orange\", \"darkorchid4\"),\n",
    "    cat.cex = 2.5,\n",
    "    cat.fontfamily = \"serif\",\n",
    "    disable.logging = TRUE\n",
    "    );"
   ]
  },
  {
   "cell_type": "code",
   "execution_count": null,
   "id": "61932aed",
   "metadata": {},
   "outputs": [],
   "source": []
  }
 ],
 "metadata": {
  "kernelspec": {
   "display_name": "R",
   "language": "R",
   "name": "ir"
  },
  "language_info": {
   "codemirror_mode": "r",
   "file_extension": ".r",
   "mimetype": "text/x-r-source",
   "name": "R",
   "pygments_lexer": "r",
   "version": "4.2.2"
  }
 },
 "nbformat": 4,
 "nbformat_minor": 5
}
