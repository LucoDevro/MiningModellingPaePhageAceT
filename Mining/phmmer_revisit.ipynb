{
 "cells": [
  {
   "cell_type": "markdown",
   "id": "f987bdd5",
   "metadata": {},
   "source": [
    "### Rerunning the phmmer pipeline with a HMM made from the TPs"
   ]
  },
  {
   "cell_type": "code",
   "execution_count": null,
   "id": "3775f114",
   "metadata": {},
   "outputs": [],
   "source": [
    "cds_db='/mnt/DATA/School/2022-2023/Thesis/Scripting/Mining/PaePhageInfoRetrieval/PaePhages_CDSs.fasta'\n",
    "tp_list='/mnt/DATA/School/2022-2023/Thesis/Scripting/AlphaFold/tree/all_pos.msa'"
   ]
  },
  {
   "cell_type": "code",
   "execution_count": null,
   "id": "40d9d52f",
   "metadata": {},
   "outputs": [],
   "source": [
    "hmmbuild all_pos.hmm $tp_list"
   ]
  },
  {
   "cell_type": "code",
   "execution_count": null,
   "id": "49ed4d16",
   "metadata": {},
   "outputs": [],
   "source": [
    "cat all_pos.hmm"
   ]
  },
  {
   "cell_type": "code",
   "execution_count": null,
   "id": "dfec511d",
   "metadata": {},
   "outputs": [],
   "source": [
    "hmmsearch -E 0.001 --tblout phmmer.TP.table.out all_pos.hmm $cds_db"
   ]
  },
  {
   "cell_type": "code",
   "execution_count": null,
   "id": "96a1447d",
   "metadata": {
    "scrolled": true
   },
   "outputs": [],
   "source": [
    "cat phmmer.TP.table.out"
   ]
  },
  {
   "cell_type": "code",
   "execution_count": null,
   "id": "52f6c87d",
   "metadata": {
    "scrolled": true
   },
   "outputs": [],
   "source": [
    "echo -e \"description of target\" > descriptions\n",
    "grep -vE '^#' phmmer.TP.table.out | \\\n",
    "    cut -c 159- | \\\n",
    "    grep -oE '\\[protein=[A-Z|a-z|0-9|\\/| |-]+\\]' | \\\n",
    "    tr -d '[]' | \\\n",
    "    cut -c 9- >> descriptions\n",
    "echo -e \"\\tlocation\" > locations\n",
    "grep -vE '^#' phmmer.TP.table.out | \\\n",
    "    cut -c 159- | \\\n",
    "    grep -oE '\\[location=[complement(]*[0-9|\\.|)]+\\]' | \\\n",
    "    tr -d '[]' | \\\n",
    "    cut -c 9- | \\\n",
    "    tr '=' '\\t' >> locations\n",
    "echo -e \"# target name\\taccession\\tquery name\\taccession\\tE-value\\tscore\\tbias\\tE-value\\tscore\\tbias\\texp\\treg\\tclu\\tov\\tenv\\tdom\\trep\\tinc\\t\" > phmmer.TP.table.out.2\n",
    "grep -vE '^#' phmmer.TP.table.out | cut -c -158 | tr -s ' ' '\\t' >> phmmer.TP.table.out.2\n",
    "paste -d '' phmmer.TP.table.out.2 descriptions locations | cut -f 1,5-7,19,20 > phmmer.TP.out\n",
    "rm descriptions\n",
    "rm locations\n",
    "rm phmmer.TP.table.out.2\n",
    "cat phmmer.TP.out"
   ]
  },
  {
   "cell_type": "code",
   "execution_count": null,
   "id": "743784de",
   "metadata": {},
   "outputs": [],
   "source": [
    "wc -l phmmer.TP.out"
   ]
  },
  {
   "cell_type": "code",
   "execution_count": null,
   "id": "af839bbe",
   "metadata": {},
   "outputs": [],
   "source": []
  }
 ],
 "metadata": {
  "kernelspec": {
   "display_name": "Bash",
   "language": "bash",
   "name": "bash"
  },
  "language_info": {
   "codemirror_mode": "shell",
   "file_extension": ".sh",
   "mimetype": "text/x-sh",
   "name": "bash"
  }
 },
 "nbformat": 4,
 "nbformat_minor": 5
}
