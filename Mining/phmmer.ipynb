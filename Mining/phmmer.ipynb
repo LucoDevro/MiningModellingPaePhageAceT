{
 "cells": [
  {
   "cell_type": "markdown",
   "id": "cfa1beea",
   "metadata": {},
   "source": [
    "### ProSite model PS51186"
   ]
  },
  {
   "cell_type": "markdown",
   "id": "f341d678",
   "metadata": {},
   "source": [
    "ProSite model PS51186: profile model of 718 proteins\n",
    "\n",
    "Downloaded from: https://prosite.expasy.org/cgi-bin/aligner?psa=PS51186&format=FASTA\n",
    "\n",
    "Information at https://prosite.expasy.org/PS51186"
   ]
  },
  {
   "cell_type": "code",
   "execution_count": null,
   "id": "016ad7da",
   "metadata": {},
   "outputs": [],
   "source": [
    "head PS51186_in.tsv"
   ]
  },
  {
   "cell_type": "code",
   "execution_count": null,
   "id": "65b2674c",
   "metadata": {
    "scrolled": true
   },
   "outputs": [],
   "source": [
    "head -1 PS51186_in.tsv > PS51186_in_Pseudomonas\n",
    "grep Pseudomonas PS51186_in.tsv >> PS51186_in_Pseudomonas\n",
    "cat PS51186_in_Pseudomonas"
   ]
  },
  {
   "cell_type": "code",
   "execution_count": null,
   "id": "02ca00d8",
   "metadata": {},
   "outputs": [],
   "source": [
    "head -1 PS51186_in.tsv > PS51186_in_phage\n",
    "grep 'Pseudomonas phage' PS51186_in.tsv >> PS51186_in_phage\n",
    "cat PS51186_in_phage"
   ]
  },
  {
   "cell_type": "markdown",
   "id": "d5150e50",
   "metadata": {},
   "source": [
    "### Constructing HMM"
   ]
  },
  {
   "cell_type": "code",
   "execution_count": null,
   "id": "7e01fabd",
   "metadata": {},
   "outputs": [],
   "source": [
    "cds_db=\"/mnt/DATA/School/2022-2023/Thesis/Scripting/Mining/PaePhageInfoRetrieval/PaePhages_CDSs.fasta\""
   ]
  },
  {
   "cell_type": "code",
   "execution_count": null,
   "id": "3110701e",
   "metadata": {},
   "outputs": [],
   "source": [
    "hmmbuild PS51186.hmm PS51186.msa"
   ]
  },
  {
   "cell_type": "code",
   "execution_count": null,
   "id": "3c09a4e2",
   "metadata": {},
   "outputs": [],
   "source": [
    "cat PS51186.hmm"
   ]
  },
  {
   "cell_type": "markdown",
   "id": "383b875d",
   "metadata": {},
   "source": [
    "PaePhages_CDSs.fasta: All CDSs of all accepted ICTV phages at NCBI Nucleotide\n",
    "obtained by Batch Entrez of PaePhagesIDs.txt exporting to CDS fasta file\n",
    "\n",
    "hmmer'ing the Prosite GNAT HMM to this CDS database"
   ]
  },
  {
   "cell_type": "code",
   "execution_count": null,
   "id": "1bc7b1ad",
   "metadata": {},
   "outputs": [],
   "source": [
    "hmmsearch -E 0.001 -o hmmer2.out --tblout hmmer2.table.out PS51186.hmm $cds_db"
   ]
  },
  {
   "cell_type": "code",
   "execution_count": null,
   "id": "fadb0d22",
   "metadata": {},
   "outputs": [],
   "source": [
    "grep -cE '[!\\?]' hmmer2.out\n",
    "grep -c '!' hmmer2.out"
   ]
  },
  {
   "cell_type": "markdown",
   "id": "f3c32bbf",
   "metadata": {},
   "source": [
    "49 hits, of which 47 are significant"
   ]
  },
  {
   "cell_type": "code",
   "execution_count": null,
   "id": "414dbbf3",
   "metadata": {
    "scrolled": true
   },
   "outputs": [],
   "source": [
    "cat hmmer2.table.out"
   ]
  },
  {
   "cell_type": "markdown",
   "id": "89974d6a",
   "metadata": {},
   "source": [
    "### Generating report files"
   ]
  },
  {
   "cell_type": "code",
   "execution_count": null,
   "id": "7e7aa598",
   "metadata": {},
   "outputs": [],
   "source": [
    "metadata=\"/mnt/DATA/School/2022-2023/Thesis/Scripting/Mining/PaePhageInfoRetrieval/ICTV_Metadata_raw.txt\""
   ]
  },
  {
   "cell_type": "markdown",
   "id": "82c5e8e3",
   "metadata": {},
   "source": [
    "Scraping the E-value, score and bias together with the labels, protein names and locations, and joining them to the species name"
   ]
  },
  {
   "cell_type": "code",
   "execution_count": null,
   "id": "9cc36d6e",
   "metadata": {
    "scrolled": true
   },
   "outputs": [],
   "source": [
    "echo -e \"description of target\" > descriptions\n",
    "grep -vE '^#' hmmer2.table.out | \\\n",
    "    cut -c 159- | \\\n",
    "    grep -oE '\\[protein=[A-Z|a-z|0-9|\\/| |-]+\\]' | \\\n",
    "    tr -d '[]' | \\\n",
    "    cut -c 9- >> descriptions\n",
    "echo -e \"\\tlocation\" > locations\n",
    "grep -vE '^#' hmmer2.table.out | \\\n",
    "    cut -c 159- | \\\n",
    "    grep -oE '\\[location=[complement(]*[0-9|\\.|)]+\\]' | \\\n",
    "    tr -d '[]' | \\\n",
    "    cut -c 9- | \\\n",
    "    tr '=' '\\t' >> locations\n",
    "echo -e \"# target name\\taccession\\tquery name\\taccession\\tE-value\\tscore\\tbias\\tE-value\\tscore\\tbias\\texp\\treg\\tclu\\tov\\tenv\\tdom\\trep\\tinc\\t\" > hmmer2.table.out.2\n",
    "grep -vE '^#' hmmer2.table.out | cut -c -158 | tr -s ' ' '\\t' >> hmmer2.table.out.2\n",
    "paste -d '' hmmer2.table.out.2 descriptions locations | cut -f 1,5-7,19,20 > phmmer.out\n",
    "rm descriptions\n",
    "rm locations\n",
    "rm hmmer2.table.out.2\n",
    "cat phmmer.out"
   ]
  },
  {
   "cell_type": "code",
   "execution_count": null,
   "id": "3ddef99f",
   "metadata": {
    "scrolled": true
   },
   "outputs": [],
   "source": [
    "accNr=$(cut -f 1 phmmer.out | grep -oE '\\|.*\\.[0-9]_p' | grep -oE '\\|.*\\.' | tr -d '|.')\n",
    "echo \"species accession\" > accession\n",
    "echo \"target species\" > species\n",
    "echo \"target genus\" > genus\n",
    "for nr in $accNr\n",
    "do\n",
    "grep $nr $metadata | cut -f 10 >> species\n",
    "grep $nr $metadata | cut -f 8 >> genus\n",
    "echo $nr >> accession\n",
    "done\n",
    "paste phmmer.out species accession genus > phmmer.out.species\n",
    "rm species\n",
    "rm accession\n",
    "rm genus\n",
    "cat phmmer.out.species"
   ]
  },
  {
   "cell_type": "code",
   "execution_count": null,
   "id": "38e54240",
   "metadata": {},
   "outputs": [],
   "source": [
    "cut -f 8,7,9 phmmer.out.species | tail -n +2 | sort -u | wc -l\n",
    "cut -f 8,7,9 phmmer.out.species | tail -n +2 | wc -l"
   ]
  },
  {
   "cell_type": "markdown",
   "id": "0d2095f5",
   "metadata": {},
   "source": [
    "47 proteins distributed over 29 species"
   ]
  },
  {
   "cell_type": "code",
   "execution_count": null,
   "id": "89213246",
   "metadata": {
    "scrolled": false
   },
   "outputs": [],
   "source": [
    "cut -f 7-9 phmmer.out.species | tail -n +2 | sort | uniq > counted.species\n",
    "cut -f 7-9 phmmer.out.species | tail -n +2 | sort | uniq -c | tr -s ' ' '\\t' | cut -f 2 > counts.raw\n",
    "paste counted.species counts.raw > counts\n",
    "rm counted.species\n",
    "rm counts.raw\n",
    "cat counts"
   ]
  },
  {
   "cell_type": "code",
   "execution_count": null,
   "id": "b02b0c2e",
   "metadata": {},
   "outputs": [],
   "source": [
    "cut -f 3 counts | sort | uniq -c"
   ]
  },
  {
   "cell_type": "code",
   "execution_count": null,
   "id": "dd462dbd",
   "metadata": {},
   "outputs": [],
   "source": [
    "wc -l counts"
   ]
  },
  {
   "cell_type": "code",
   "execution_count": null,
   "id": "445589f5",
   "metadata": {},
   "outputs": [],
   "source": []
  }
 ],
 "metadata": {
  "kernelspec": {
   "display_name": "Bash",
   "language": "bash",
   "name": "bash"
  },
  "language_info": {
   "codemirror_mode": "shell",
   "file_extension": ".sh",
   "mimetype": "text/x-sh",
   "name": "bash"
  }
 },
 "nbformat": 4,
 "nbformat_minor": 5
}
